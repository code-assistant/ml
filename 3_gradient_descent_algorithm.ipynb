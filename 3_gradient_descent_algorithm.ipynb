{
 "cells": [
  {
   "cell_type": "code",
   "execution_count": 1,
   "metadata": {},
   "outputs": [],
   "source": [
    "import numpy as np\n",
    "import matplotlib.pyplot as plt"
   ]
  },
  {
   "cell_type": "code",
   "execution_count": null,
   "metadata": {},
   "outputs": [],
   "source": [
    "x = 2 # Starting point\n",
    "lr = 0.01 # Learning rate\n",
    "prec = 0.000001 # Precision\n",
    "prev_step_size = 1 # Initial step size\n",
    "max_iter = 100 # Maximum iterations\n",
    "iters = 0\n",
    "gf = lambda x: 2 * (x + 3) # Gradient function (derivative of f)\n",
    "\n",
    "gd = [] # List to store values\n",
    "while prec < prev_step_size and iters < max_iter:\n",
    "    prev = x\n",
    "    x = x - lr * gf(prev)\n",
    "    # Update step\n",
    "    prev_step_size = abs(x - prev)\n",
    "    iters += 1\n",
    "    gd.append(x) # Append the current value to the list\n",
    "    print(\"Iterations:\", iters, \"value:\", x)\n",
    "print(\"local minima:\", x)"
   ]
  },
  {
   "cell_type": "code",
   "execution_count": null,
   "metadata": {},
   "outputs": [],
   "source": [
    "plt.plot(gd)\n",
    "plt.title('Gradient Descent Steps')\n",
    "plt.xlabel('Iterations')\n",
    "plt.ylabel('Value of x')\n",
    "plt.grid(True)\n",
    "plt.show()"
   ]
  }
 ],
 "metadata": {
  "kernelspec": {
   "display_name": "pyenv",
   "language": "python",
   "name": "python3"
  },
  "language_info": {
   "codemirror_mode": {
    "name": "ipython",
    "version": 3
   },
   "file_extension": ".py",
   "mimetype": "text/x-python",
   "name": "python",
   "nbconvert_exporter": "python",
   "pygments_lexer": "ipython3",
   "version": "3.11.2"
  }
 },
 "nbformat": 4,
 "nbformat_minor": 2
}
